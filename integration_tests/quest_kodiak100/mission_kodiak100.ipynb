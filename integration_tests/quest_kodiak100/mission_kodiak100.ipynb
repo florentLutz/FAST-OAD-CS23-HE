{
 "cells": [
  {
   "cell_type": "markdown",
   "id": "7eafe974-f725-4702-950d-2454444fc4a8",
   "metadata": {},
   "source": [
    "# Display of the mission parameters Kodiak100"
   ]
  },
  {
   "cell_type": "code",
   "execution_count": null,
   "id": "dee26570-a005-4002-ac21-9f145ad45b16",
   "metadata": {
    "tags": []
   },
   "outputs": [],
   "source": [
    "import os.path as pth\n",
    "import logging\n",
    "\n",
    "import fastoad.api as oad\n",
    "import fastga_he.api as oad_he\n",
    "\n",
    "DATA_FOLDER_PATH = \"data\"\n",
    "RESULTS_FOLDER_PATH = \"results\"\n",
    "WORK_FOLDER_PATH = \"workdir\"\n",
    "\n",
    "CONFIGURATION_FILE = pth.join(DATA_FOLDER_PATH, \"full_sizing_kodiak100.yml\")\n",
    "PT_FILE = pth.join(DATA_FOLDER_PATH, \"turboshaft_propulsion.yml\")\n",
    "# The following PT file is not used for sizing just to try out the network function\n",
    "\n",
    "# For having log messages on screen\n",
    "logging.basicConfig(level=logging.WARNING, format=\"%(levelname)-8s: %(message)s\")"
   ]
  },
  {
   "cell_type": "code",
   "execution_count": null,
   "id": "f30eb7a5-33e7-4782-9413-49f17acb7d77",
   "metadata": {
    "tags": []
   },
   "outputs": [],
   "source": [
    "from IPython.display import IFrame\n",
    "\n",
    "NETWORK_FILE = pth.join(WORK_FOLDER_PATH, \"kodiak_assembly.html\")\n",
    "\n",
    "oad_he.power_train_network_viewer(power_train_file_path=PT_FILE, network_file_path=NETWORK_FILE)\n",
    "\n",
    "# For some reason, this doesn't display icon. Opening it in Firefox does the trick.\n",
    "IFrame(src=NETWORK_FILE, width=\"100%\", height=\"500px\")"
   ]
  },
  {
   "cell_type": "code",
   "execution_count": null,
   "id": "d320ec4f-4528-4a0b-83a2-46d090ee6db1",
   "metadata": {
    "tags": []
   },
   "outputs": [],
   "source": [
    "MISSION_DATA_FILE = pth.join(RESULTS_FOLDER_PATH, \"turboshaft_propulsion.csv\")\n",
    "PT_DATA_FILE = pth.join(RESULTS_FOLDER_PATH, \"fuel_propulsion_pt_watcher.csv\")\n",
    "\n",
    "perfo_viewer = oad_he.PerformancesViewer(\n",
    "    power_train_data_file_path=PT_DATA_FILE,\n",
    "    mission_data_file_path=MISSION_DATA_FILE,\n",
    "    plot_height=800,\n",
    ")"
   ]
  },
  {
   "cell_type": "markdown",
   "id": "fd4b3f0c-33c9-4c88-8ef4-584087576dfa",
   "metadata": {},
   "source": [
    "# Comparaison of design mission with OP mission"
   ]
  },
  {
   "cell_type": "code",
   "execution_count": null,
   "id": "41d4b2da-b8ae-4812-976c-b84ba2d92c4b",
   "metadata": {
    "tags": []
   },
   "outputs": [],
   "source": [
    "OP_MISSION_DATA_FILE = pth.join(RESULTS_FOLDER_PATH, \"turboshaft_propulsion_op_mission.csv\")\n",
    "OP_PT_DATA_FILE = pth.join(RESULTS_FOLDER_PATH, \"fuel_propulsion_pt_watcher_op_mission.csv\")\n",
    "\n",
    "perfo_viewer = oad_he.PerformancesViewer(\n",
    "    power_train_data_file_path=OP_PT_DATA_FILE,\n",
    "    mission_data_file_path=OP_MISSION_DATA_FILE,\n",
    "    plot_height=800,\n",
    ")"
   ]
  },
  {
   "cell_type": "code",
   "execution_count": null,
   "id": "982a0397-81b5-4cf5-9fee-f90b3cff9fe6",
   "metadata": {
    "tags": []
   },
   "outputs": [],
   "source": [
    "DESIGN_MISSION_DATA_FILE = pth.join(RESULTS_FOLDER_PATH, \"turboshaft_propulsion.csv\")\n",
    "\n",
    "mission = oad.MissionViewer()\n",
    "mission.add_mission(DESIGN_MISSION_DATA_FILE, name=\"Kodiak 100 design mission\")\n",
    "mission.add_mission(OP_MISSION_DATA_FILE, name=\"Kodiak 100 operational mission\")\n",
    "\n",
    "mission.display()"
   ]
  },
  {
   "cell_type": "code",
   "execution_count": null,
   "id": "54debeea-b543-4517-84e2-4e05cbc51e31",
   "metadata": {
    "tags": []
   },
   "outputs": [],
   "source": [
    "import plotly.graph_objects as go\n",
    "\n",
    "fig = None\n",
    "\n",
    "for mission_name in mission.missions:\n",
    "    if fig is None:\n",
    "        fig = go.Figure()\n",
    "\n",
    "    x = mission.missions[mission_name][\"ground_distance\"] * 0.000539957\n",
    "    y = mission.missions[mission_name][\"altitude\"] * 3.2808410892388\n",
    "\n",
    "    scatter = go.Scatter(x=x, y=y, mode=\"lines\", name=mission_name)\n",
    "\n",
    "    fig.add_trace(scatter)\n",
    "\n",
    "fig.update_layout(\n",
    "    xaxis_title=\"Ground distance [nm]\", yaxis_title=\"Altitude [ft]\", font=dict(size=15)\n",
    ")"
   ]
  },
  {
   "cell_type": "markdown",
   "id": "c81a71c7-48f4-4910-a13c-ee58920b9743",
   "metadata": {},
   "source": [
    "# Display hybrid Kodiak 100"
   ]
  },
  {
   "cell_type": "code",
   "execution_count": null,
   "id": "9feaaf64-00b6-4455-bb21-7d6215fb52f4",
   "metadata": {
    "tags": []
   },
   "outputs": [],
   "source": [
    "MISSION_DATA_FILE = pth.join(RESULTS_FOLDER_PATH, \"hybrid_propulsion.csv\")\n",
    "PT_DATA_FILE = pth.join(RESULTS_FOLDER_PATH, \"hybridized_kodiak_100.csv\")\n",
    "\n",
    "perfo_viewer = oad_he.PerformancesViewer(\n",
    "    power_train_data_file_path=PT_DATA_FILE,\n",
    "    mission_data_file_path=MISSION_DATA_FILE,\n",
    "    plot_height=800,\n",
    ")"
   ]
  },
  {
   "cell_type": "markdown",
   "id": "6312a3e1-f803-4715-b476-3cbd22a850da",
   "metadata": {},
   "source": [
    "# Display hybrid Kodiak 100 fully sized"
   ]
  },
  {
   "cell_type": "code",
   "execution_count": null,
   "id": "2e8bec99-5e0b-481b-8f8b-ab799d356bdb",
   "metadata": {},
   "outputs": [],
   "source": [
    "MISSION_DATA_FILE = pth.join(RESULTS_FOLDER_PATH, \"full_sizing_hybrid_propulsion.csv\")\n",
    "PT_DATA_FILE = pth.join(RESULTS_FOLDER_PATH, \"hybridized_full_sizing_kodiak.csv\")\n",
    "\n",
    "perfo_viewer = oad_he.PerformancesViewer(\n",
    "    power_train_data_file_path=PT_DATA_FILE,\n",
    "    mission_data_file_path=MISSION_DATA_FILE,\n",
    "    plot_height=800,\n",
    ")"
   ]
  },
  {
   "cell_type": "code",
   "execution_count": null,
   "id": "52016a3f-6269-4a77-96f1-ec757ff06ed0",
   "metadata": {},
   "outputs": [],
   "source": []
  }
 ],
 "metadata": {
  "kernelspec": {
   "display_name": "Python 3 (ipykernel)",
   "language": "python",
   "name": "python3"
  },
  "language_info": {
   "codemirror_mode": {
    "name": "ipython",
    "version": 3
   },
   "file_extension": ".py",
   "mimetype": "text/x-python",
   "name": "python",
   "nbconvert_exporter": "python",
   "pygments_lexer": "ipython3",
   "version": "3.10.14"
  }
 },
 "nbformat": 4,
 "nbformat_minor": 5
}
