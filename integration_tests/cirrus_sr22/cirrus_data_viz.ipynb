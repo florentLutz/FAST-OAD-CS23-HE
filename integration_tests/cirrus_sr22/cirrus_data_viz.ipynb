{
 "cells": [
  {
   "cell_type": "markdown",
   "id": "79d8b714-e3bc-4622-b1c1-574bcbb4e462",
   "metadata": {},
   "source": [
    "# Data visualization for the Cirrus SR22"
   ]
  },
  {
   "cell_type": "code",
   "execution_count": null,
   "id": "961523bf-f072-4dfd-a70e-2f6556070ad9",
   "metadata": {
    "tags": []
   },
   "outputs": [],
   "source": [
    "import os.path as pth\n",
    "import logging\n",
    "\n",
    "import fastga_he.api as oad_he\n",
    "\n",
    "DATA_FOLDER_PATH = \"data\"\n",
    "\n",
    "RESULTS_FOLDER_PATH = \"results\"\n",
    "\n",
    "# For having log messages on screen\n",
    "logging.basicConfig(level=logging.WARNING, format=\"%(levelname)-8s: %(message)s\")"
   ]
  },
  {
   "cell_type": "code",
   "execution_count": null,
   "id": "c637fdf9-ef3a-408c-b2c1-9deb8665ef79",
   "metadata": {},
   "outputs": [],
   "source": [
    "MISSION_DATA_FILE = pth.join(RESULTS_FOLDER_PATH, \"fuel_propulsion.csv\")\n",
    "PT_DATA_FILE = pth.join(RESULTS_FOLDER_PATH, \"fuel_propulsion_pt_watcher.csv\")\n",
    "\n",
    "perfo_viewer = oad_he.PerformancesViewer(\n",
    "    power_train_data_file_path=PT_DATA_FILE,\n",
    "    mission_data_file_path=MISSION_DATA_FILE,\n",
    "    plot_height=800,\n",
    ")"
   ]
  },
  {
   "cell_type": "markdown",
   "id": "3dc8d1b9-3be2-4f57-9f1e-ab161d8f370d",
   "metadata": {},
   "source": [
    "Data visualization for the Cirrus SR22 on its operationnal mission"
   ]
  },
  {
   "cell_type": "code",
   "execution_count": null,
   "id": "79439042-9b0e-41c1-b3ee-c3fcce4d89f5",
   "metadata": {
    "tags": []
   },
   "outputs": [],
   "source": [
    "MISSION_DATA_FILE = pth.join(RESULTS_FOLDER_PATH, \"fuel_propulsion_op_mission.csv\")\n",
    "PT_DATA_FILE = pth.join(RESULTS_FOLDER_PATH, \"fuel_propulsion_pt_watcher.csv\")\n",
    "\n",
    "perfo_viewer = oad_he.PerformancesViewer(\n",
    "    power_train_data_file_path=PT_DATA_FILE,\n",
    "    mission_data_file_path=MISSION_DATA_FILE,\n",
    "    plot_height=800,\n",
    ")"
   ]
  },
  {
   "cell_type": "markdown",
   "id": "27ef2346-6003-4d1b-99fc-1418983223d4",
   "metadata": {},
   "source": [
    "# Data visualization for the Electric Cirrus SR22"
   ]
  },
  {
   "cell_type": "code",
   "execution_count": null,
   "id": "b9a649c3-22b6-4e5b-8bf2-ce924c36a38a",
   "metadata": {},
   "outputs": [],
   "source": [
    "MISSION_DATA_FILE = pth.join(RESULTS_FOLDER_PATH, \"electric_propulsion.csv\")\n",
    "PT_DATA_FILE = pth.join(RESULTS_FOLDER_PATH, \"cirrus_sr22_electric.csv\")\n",
    "\n",
    "perfo_viewer = oad_he.PerformancesViewer(\n",
    "    power_train_data_file_path=PT_DATA_FILE,\n",
    "    mission_data_file_path=MISSION_DATA_FILE,\n",
    "    plot_height=800,\n",
    ")"
   ]
  },
  {
   "cell_type": "markdown",
   "id": "f71ff92f-104c-4c96-ba2e-31b81106bc0e",
   "metadata": {},
   "source": [
    "# Data visualization for the Electric Cirrus SR22 with two stacked motors"
   ]
  },
  {
   "cell_type": "code",
   "execution_count": null,
   "id": "6b6b3ba9-f11c-456b-a626-fdc132b29f52",
   "metadata": {
    "tags": []
   },
   "outputs": [],
   "source": [
    "MISSION_DATA_FILE = pth.join(RESULTS_FOLDER_PATH, \"electric_propulsion_two_motors.csv\")\n",
    "PT_DATA_FILE = pth.join(RESULTS_FOLDER_PATH, \"cirrus_sr22_electric_two_motors.csv\")\n",
    "\n",
    "perfo_viewer = oad_he.PerformancesViewer(\n",
    "    power_train_data_file_path=PT_DATA_FILE,\n",
    "    mission_data_file_path=MISSION_DATA_FILE,\n",
    "    plot_height=800,\n",
    ")"
   ]
  },
  {
   "cell_type": "markdown",
   "id": "bbb552c0-43a8-4037-9bb8-861d20cee213",
   "metadata": {},
   "source": [
    "# Data visualization for the Hybrid SR22"
   ]
  },
  {
   "cell_type": "code",
   "execution_count": null,
   "id": "0d449aba-42cd-4352-8b2b-98702b56fa02",
   "metadata": {},
   "outputs": [],
   "source": [
    "MISSION_DATA_FILE = pth.join(RESULTS_FOLDER_PATH, \"hybrid_propulsion.csv\")\n",
    "PT_DATA_FILE = pth.join(RESULTS_FOLDER_PATH, \"hybrid_propulsion_pt_watcher.csv\")\n",
    "\n",
    "perfo_viewer = oad_he.PerformancesViewer(\n",
    "    power_train_data_file_path=PT_DATA_FILE,\n",
    "    mission_data_file_path=MISSION_DATA_FILE,\n",
    "    plot_height=800,\n",
    ")"
   ]
  },
  {
   "cell_type": "markdown",
   "id": "321d1a4d-06a7-422c-a379-09e9b57eb796",
   "metadata": {},
   "source": [
    "# Data visualization for the Hybrid SR22 with power share"
   ]
  },
  {
   "cell_type": "code",
   "execution_count": null,
   "id": "81021fd8-bbe3-42f9-8e1b-c835a3375a04",
   "metadata": {},
   "outputs": [],
   "source": [
    "MISSION_DATA_FILE = pth.join(RESULTS_FOLDER_PATH, \"hybrid_propulsion_power_share.csv\")\n",
    "PT_DATA_FILE = pth.join(RESULTS_FOLDER_PATH, \"hybrid_propulsion_pt_watcher_power_share.csv\")\n",
    "\n",
    "perfo_viewer = oad_he.PerformancesViewer(\n",
    "    power_train_data_file_path=PT_DATA_FILE,\n",
    "    mission_data_file_path=MISSION_DATA_FILE,\n",
    "    plot_height=800,\n",
    ")"
   ]
  },
  {
   "cell_type": "markdown",
   "id": "27705d64-abfb-4fce-a11b-fd9bde95d05e",
   "metadata": {},
   "source": [
    "# Data visualization for the Hybrid SR22 with no LTO emissions"
   ]
  },
  {
   "cell_type": "code",
   "execution_count": null,
   "id": "46a82882-61b5-4e01-8799-44f65ff12eb8",
   "metadata": {
    "tags": []
   },
   "outputs": [],
   "source": [
    "MISSION_DATA_FILE = pth.join(RESULTS_FOLDER_PATH, \"hybrid_propulsion_no_LTO.csv\")\n",
    "PT_DATA_FILE = pth.join(RESULTS_FOLDER_PATH, \"hybrid_propulsion_pt_watcher_no_LTO.csv\")\n",
    "\n",
    "perfo_viewer = oad_he.PerformancesViewer(\n",
    "    power_train_data_file_path=PT_DATA_FILE,\n",
    "    mission_data_file_path=MISSION_DATA_FILE,\n",
    "    plot_height=800,\n",
    ")"
   ]
  },
  {
   "cell_type": "markdown",
   "id": "7dfbe143-469e-44f7-b81b-17719f41891d",
   "metadata": {},
   "source": [
    "# Data visualization for the Hybrid SR22 with no LTO emissions improved"
   ]
  },
  {
   "cell_type": "code",
   "execution_count": null,
   "id": "b004a22d-98fc-4c2e-805c-82f3a8515fbb",
   "metadata": {
    "tags": []
   },
   "outputs": [],
   "source": [
    "MISSION_DATA_FILE = pth.join(RESULTS_FOLDER_PATH, \"hybrid_propulsion_no_LTO_improved.csv\")\n",
    "PT_DATA_FILE = pth.join(RESULTS_FOLDER_PATH, \"hybrid_propulsion_pt_watcher_no_LTO_improved.csv\")\n",
    "\n",
    "perfo_viewer = oad_he.PerformancesViewer(\n",
    "    power_train_data_file_path=PT_DATA_FILE,\n",
    "    mission_data_file_path=MISSION_DATA_FILE,\n",
    "    plot_height=800,\n",
    ")"
   ]
  },
  {
   "cell_type": "markdown",
   "id": "c8ad885a-57cf-4e14-8962-4fa5aefd0816",
   "metadata": {
    "tags": []
   },
   "source": [
    "# Data visualization for the Hybrid SR22 with no LTO emissions improved with better cells"
   ]
  },
  {
   "cell_type": "code",
   "execution_count": null,
   "id": "89a4785d-30a4-4581-af08-07db028e44f5",
   "metadata": {},
   "outputs": [],
   "source": [
    "BETTER_CELLS_RESULTS_FOLDER_PATH = \"results_better_cells\"\n",
    "\n",
    "MISSION_DATA_FILE = pth.join(\n",
    "    BETTER_CELLS_RESULTS_FOLDER_PATH, \"hybrid_propulsion_no_LTO_improved.csv\"\n",
    ")\n",
    "PT_DATA_FILE = pth.join(\n",
    "    BETTER_CELLS_RESULTS_FOLDER_PATH, \"hybrid_propulsion_pt_watcher_no_LTO_improved.csv\"\n",
    ")\n",
    "\n",
    "perfo_viewer = oad_he.PerformancesViewer(\n",
    "    power_train_data_file_path=PT_DATA_FILE,\n",
    "    mission_data_file_path=MISSION_DATA_FILE,\n",
    "    plot_height=800,\n",
    ")"
   ]
  },
  {
   "cell_type": "markdown",
   "id": "e25cc499-3293-4e36-89dc-c29bff10ffc9",
   "metadata": {
    "tags": []
   },
   "source": [
    "# Data visualization for the Hybrid SR22 on the op mission"
   ]
  },
  {
   "cell_type": "code",
   "execution_count": null,
   "id": "4fca544d-2a36-4b37-bb22-ef1c7fcd7b7f",
   "metadata": {},
   "outputs": [],
   "source": [
    "BETTER_CELLS_RESULTS_FOLDER_PATH = \"results_better_cells\"\n",
    "\n",
    "MISSION_DATA_FILE = pth.join(BETTER_CELLS_RESULTS_FOLDER_PATH, \"fuel_propulsion_op_mission.csv\")\n",
    "PT_DATA_FILE = pth.join(RESULTS_FOLDER_PATH, \"hybrid_propulsion_pt_watcher.csv\")\n",
    "\n",
    "perfo_viewer = oad_he.PerformancesViewer(\n",
    "    power_train_data_file_path=PT_DATA_FILE,\n",
    "    mission_data_file_path=MISSION_DATA_FILE,\n",
    "    plot_height=800,\n",
    ")"
   ]
  },
  {
   "cell_type": "code",
   "execution_count": null,
   "id": "a37b523f-0193-4b8c-a9fa-f4c9d3eb9af3",
   "metadata": {},
   "outputs": [],
   "source": []
  }
 ],
 "metadata": {
  "kernelspec": {
   "display_name": "Python 3 (ipykernel)",
   "language": "python",
   "name": "python3"
  },
  "language_info": {
   "codemirror_mode": {
    "name": "ipython",
    "version": 3
   },
   "file_extension": ".py",
   "mimetype": "text/x-python",
   "name": "python",
   "nbconvert_exporter": "python",
   "pygments_lexer": "ipython3",
   "version": "3.11.13"
  }
 },
 "nbformat": 4,
 "nbformat_minor": 5
}
