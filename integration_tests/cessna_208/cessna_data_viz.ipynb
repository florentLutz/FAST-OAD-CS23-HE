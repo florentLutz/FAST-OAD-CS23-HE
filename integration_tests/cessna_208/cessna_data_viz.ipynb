{
 "cells": [
  {
   "cell_type": "markdown",
   "id": "79d8b714-e3bc-4622-b1c1-574bcbb4e462",
   "metadata": {},
   "source": [
    "# Data visualization for the Cessna 208B"
   ]
  },
  {
   "cell_type": "code",
   "execution_count": null,
   "id": "961523bf-f072-4dfd-a70e-2f6556070ad9",
   "metadata": {
    "tags": []
   },
   "outputs": [],
   "source": [
    "import os.path as pth\n",
    "import logging\n",
    "\n",
    "import fastga_he.api as oad_he\n",
    "\n",
    "DATA_FOLDER_PATH = \"data\"\n",
    "\n",
    "RESULTS_FOLDER_PATH = \"results\"\n",
    "\n",
    "# For having log messages on screen\n",
    "logging.basicConfig(level=logging.WARNING, format=\"%(levelname)-8s: %(message)s\")"
   ]
  },
  {
   "cell_type": "code",
   "execution_count": null,
   "id": "c637fdf9-ef3a-408c-b2c1-9deb8665ef79",
   "metadata": {},
   "outputs": [],
   "source": [
    "MISSION_DATA_FILE = pth.join(RESULTS_FOLDER_PATH, \"turboshaft_propulsion.csv\")\n",
    "PT_DATA_FILE = pth.join(RESULTS_FOLDER_PATH, \"fuel_propulsion_pt_watcher.csv\")\n",
    "\n",
    "perfo_viewer = oad_he.PerformancesViewer(\n",
    "    power_train_data_file_path=PT_DATA_FILE,\n",
    "    mission_data_file_path=MISSION_DATA_FILE,\n",
    "    plot_height=800,\n",
    ")"
   ]
  },
  {
   "cell_type": "markdown",
   "id": "43c0ecf8-2cae-429c-b6d3-05d3f1ebd06d",
   "metadata": {},
   "source": [
    "# Data visualization for the Cessna 208B on the op mission"
   ]
  },
  {
   "cell_type": "code",
   "execution_count": null,
   "id": "a23d3ecc-8b7a-4c70-a2de-5a17dd382518",
   "metadata": {},
   "outputs": [],
   "source": [
    "MISSION_DATA_FILE = pth.join(RESULTS_FOLDER_PATH, \"turboshaft_propulsion_op_mission.csv\")\n",
    "PT_DATA_FILE = pth.join(RESULTS_FOLDER_PATH, \"fuel_propulsion_pt_watcher.csv\")\n",
    "\n",
    "perfo_viewer = oad_he.PerformancesViewer(\n",
    "    power_train_data_file_path=PT_DATA_FILE,\n",
    "    mission_data_file_path=MISSION_DATA_FILE,\n",
    "    plot_height=800,\n",
    ")"
   ]
  },
  {
   "cell_type": "markdown",
   "id": "cb7c98f0-fbb9-4ee4-9352-24b12bab5f65",
   "metadata": {},
   "source": [
    "# Data visualization for the Hybrid Cessna 208B (Don't forget to run the problem before hand as two process share the same pt watcher file name)"
   ]
  },
  {
   "cell_type": "code",
   "execution_count": null,
   "id": "02e3eaee-000a-46d7-8ba3-b3126ecd7d84",
   "metadata": {},
   "outputs": [],
   "source": [
    "MISSION_DATA_FILE = pth.join(RESULTS_FOLDER_PATH, \"hybrid_propulsion.csv\")\n",
    "PT_DATA_FILE = pth.join(RESULTS_FOLDER_PATH, \"hybridized_cessna_208.csv\")\n",
    "\n",
    "perfo_viewer = oad_he.PerformancesViewer(\n",
    "    power_train_data_file_path=PT_DATA_FILE,\n",
    "    mission_data_file_path=MISSION_DATA_FILE,\n",
    "    plot_height=800,\n",
    ")"
   ]
  },
  {
   "cell_type": "markdown",
   "id": "baa9e7da-bff3-4983-8e67-012329cd64d2",
   "metadata": {},
   "source": [
    "# Data visualization for the Hybrid Cessna 208B with perfect turboshaft fit (Don't forget to run the problem before hand as two process share the same pt watcher file name)"
   ]
  },
  {
   "cell_type": "code",
   "execution_count": null,
   "id": "69328ba8-f31d-4522-8fd2-5a589853141f",
   "metadata": {},
   "outputs": [],
   "source": [
    "MISSION_DATA_FILE = pth.join(RESULTS_FOLDER_PATH, \"hybrid_propulsion_perfect_fit.csv\")\n",
    "PT_DATA_FILE = pth.join(RESULTS_FOLDER_PATH, \"hybridized_cessna_208.csv\")\n",
    "\n",
    "perfo_viewer = oad_he.PerformancesViewer(\n",
    "    power_train_data_file_path=PT_DATA_FILE,\n",
    "    mission_data_file_path=MISSION_DATA_FILE,\n",
    "    plot_height=800,\n",
    ")"
   ]
  },
  {
   "cell_type": "code",
   "execution_count": null,
   "id": "e78d6a4c-579b-43ab-9aa6-38e57c1021d9",
   "metadata": {},
   "outputs": [],
   "source": []
  }
 ],
 "metadata": {
  "kernelspec": {
   "display_name": "Python 3 (ipykernel)",
   "language": "python",
   "name": "python3"
  },
  "language_info": {
   "codemirror_mode": {
    "name": "ipython",
    "version": 3
   },
   "file_extension": ".py",
   "mimetype": "text/x-python",
   "name": "python",
   "nbconvert_exporter": "python",
   "pygments_lexer": "ipython3",
   "version": "3.11.13"
  }
 },
 "nbformat": 4,
 "nbformat_minor": 5
}
