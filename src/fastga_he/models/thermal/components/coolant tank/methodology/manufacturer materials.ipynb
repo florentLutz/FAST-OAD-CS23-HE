{
 "cells": [
  {
   "cell_type": "code",
   "execution_count": null,
   "metadata": {},
   "outputs": [],
   "source": []
  },
  {
   "attachments": {},
   "cell_type": "markdown",
   "metadata": {},
   "source": [
    "coolant tank examples\n",
    "\n",
    "https://ph.parker.com/us/en/potable-water-tanks\n",
    "https://ph.parker.com/us/en/fluid-reservoirs\n"
   ]
  },
  {
   "attachments": {},
   "cell_type": "markdown",
   "metadata": {},
   "source": [
    "coolant tank manufacturers:\n",
    "\n",
    "Parker Hannifin, Eaton, Parker Aerospace, Honeywell Aerospace, Meggitt, Hamilton Sundstrand"
   ]
  },
  {
   "attachments": {},
   "cell_type": "markdown",
   "metadata": {},
   "source": [
    "coolant safety factor for mass/volume calculations\n",
    "\n",
    "- example of 20% safety factor for cooling load: \n",
    "https://avestia.com/ICAERA2021_Proceedings/files/paper/ICAERA_111.pdf\n",
    "\n"
   ]
  }
 ],
 "metadata": {
  "kernelspec": {
   "display_name": "base",
   "language": "python",
   "name": "python3"
  },
  "language_info": {
   "name": "python",
   "version": "3.7.6 (default, Jan  8 2020, 20:23:39) [MSC v.1916 64 bit (AMD64)]"
  },
  "orig_nbformat": 4,
  "vscode": {
   "interpreter": {
    "hash": "ad2bdc8ecc057115af97d19610ffacc2b4e99fae6737bb82f5d7fb13d2f2c186"
   }
  }
 },
 "nbformat": 4,
 "nbformat_minor": 2
}
