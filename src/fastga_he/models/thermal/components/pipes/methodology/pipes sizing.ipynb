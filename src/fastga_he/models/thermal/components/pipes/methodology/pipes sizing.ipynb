{
 "cells": [
  {
   "cell_type": "markdown",
   "metadata": {},
   "source": [
    "# Pipes sizing\n",
    "\n",
    "*Written by Valentine HABRARD (PhD student at ISAE-SUPAERO) in Toulouse, France.*\n",
    "\n",
    "The objective of this notebook is to give the methodology of how the thermal management pipes are sized. "
   ]
  },
  {
   "cell_type": "markdown",
   "metadata": {},
   "source": [
    "The coolant mass flow is used to calculate the radius of the pipe at different zones throughout the thermal management system. This radius $R$ is then used to compute the mass of the pipe $m_{pipe}$ [$kg$] and also the mass of the coolant $m_{cool}$ [$kg$] both in that zone. Overall, the equations are given below for the radius of the pipes, the mass of the pipes and the mass of the coolant. All parameters depend on what the part of the cycle the coolant is located in. For example, the velocity $V_{state}$ [$m/s$] denotes the maximum velocity of the coolant and changes depending on the state of the coolant. Furthermore, to compute the mass of the coolant, the density of the coolant is given by $\\rho_{cool}$ [$kg/m^3$]. \n",
    "<br>\n",
    "\n",
    "\\begin{equation}\n",
    "        R = \\sqrt{\\frac{\\dot{m}}{\\pi \\rho_{cool} V_{state} }}\n",
    "\\tag{5}\n",
    "\\end{equation}\n",
    "    \n",
    "\\begin{equation}\n",
    "        m_{pipe} = \\rho_{pipe} \\:\\pi\\:l_{inter} \\left[(R+t)^2 -R^2 \\right]\n",
    "\\tag{6}\n",
    "\\end{equation}\n",
    "    \n",
    "\\begin{equation}\n",
    "        m_{cool} = \\rho_{cool}\\:\\pi\\:l_{inter}\\:R^2 \n",
    "\\tag{7}\n",
    "\\end{equation}\n",
    "\n",
    "where\n",
    "\n",
    "* $t$ is the pipe thickness - [m] <br>\n",
    "* $l_{inter}$ is the intermediate length between the compressor/condenser and condenser/regulator - [m]"
   ]
  }
 ],
 "metadata": {
  "kernelspec": {
   "display_name": "Python 3.8.13 ('FAST')",
   "language": "python",
   "name": "python3"
  },
  "language_info": {
   "name": "python",
   "version": "3.8.13"
  },
  "orig_nbformat": 4,
  "vscode": {
   "interpreter": {
    "hash": "d3d12d65d4093dddd3ed5dd60ebef1c840362d5e81355a53df3603368ead3fcd"
   }
  }
 },
 "nbformat": 4,
 "nbformat_minor": 2
}
