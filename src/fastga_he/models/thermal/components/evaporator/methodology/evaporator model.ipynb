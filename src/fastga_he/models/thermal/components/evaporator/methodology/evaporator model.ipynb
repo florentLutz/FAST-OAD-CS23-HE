{
 "cells": [
  {
   "attachments": {},
   "cell_type": "markdown",
   "metadata": {},
   "source": [
    "\n",
    "# Evaporator model\n",
    "\n",
    "*Written by Valentine HABRARD (PhD student at ISAE-SUPAERO) in Toulouse, France.*\n",
    "\n",
    "The objective of this notebook is to give the methodology of how the thermal management system evaporators are sized."
   ]
  },
  {
   "attachments": {},
   "cell_type": "markdown",
   "metadata": {},
   "source": [
    "### HEX used as evaporator in normal applications\n",
    "\n",
    "**Information:**\n",
    "* Typical HEX used for evaporators are Shell and tube and Brazed plate\n",
    "* Can use finned tube HEX\n",
    "\n",
    "**Sources:**\n",
    "* https://www.air-eng.com/blog/2017/11/16/heat-exchangers-commonly-used-for-evaporators-and-condensers\n",
    "* https://www.alaquainc.com/the-common-use-of-heat-exchanger-for-evaporators/\n",
    "* https://ora.ox.ac.uk/objects/uuid:b3e7133c-8501-4c13-a056-e75e96feb5df/download_file?file_format=&safe_filename=Supplementary_information_Clean.pdf&type_of_work=Journal+article\n"
   ]
  },
  {
   "attachments": {},
   "cell_type": "markdown",
   "metadata": {},
   "source": [
    "### HEX used as evaporators in aviation applications\n",
    "\n",
    "**Information:**\n",
    "* Plate surface, bare-tube and finned\n",
    "* Within the aviation sector, finned evaporators are common because of its extended surface area that results in better heat transfer capabilities. The extended surface gives better advantages because it reduces the size, weight and cost of the component\n",
    "\n",
    "**Sources:**\n",
    "* https://www.diva-portal.org/smash/get/diva2:1300873/FULLTEXT01.pdf\n",
    "* Modeling and Simulation of novel Environmental Control System for a combat aircraft\n",
    "* https://www.airconditioning-systems.com/evaporator.html"
   ]
  },
  {
   "attachments": {},
   "cell_type": "markdown",
   "metadata": {},
   "source": [
    "\n",
    "### HEX used as evaporator for hydrogen applications\n",
    "**Information:**\n",
    "* x\n",
    "\n",
    "**Sources:**\n",
    "* https://watermark.silverchair.com/754_1.pdf?token=AQECAHi208BE49Ooan9kkhW_Ercy7Dm3ZL_9Cf3qfKAc485ysgAAA_swggP3BgkqhkiG9w0BBwagggPoMIID5AIBADCCA90GCSqGSIb3DQEHATAeBglghkgBZQMEAS4wEQQMFHvlKStXv6vm4aacAgEQgIIDrkDeN1IJwvyGKhcKdyp_0A7FCAVdbdWfAPBatiJD5EwD0kqrtFURwgxvmloZmL80MHqwmKQ4GRZVOoWx4ijg7NxyB3rvZiYdQf8YI7WCp1eMAy9H8w0q9QADv6g82YXdY4uYJyL_gLR8cTKoJYjAiqQCems88XYVZG5-qfmr_pbaVhtnmJzPrCZDLU853CUDvxt-OAwf9Tw1js4L0fVl5fzHavsAvbKB5Ds6fFiKYuwu4GURr7vUHAgjSI3-hgdb3_bfFf53XoMUDFq2ZASjxnCz-03-R0pZg0zutq3I6Prz2w6-P8BiG4KewjIMI35Re6xlJIgkW1ETK5FIhwbo_HWYhdSUFldt5L-hqJXGrTfGdLAI8eYJuKZK_roIbw241OzsS7XbWom-TgQPOmL9C_yHSqgTuTKdNtxOvNdBEaKrNBzwZ_3zzOj7B4YqnBFT8yVgOsrRG-vvQSn56sRVcBMQc-91wDyJI3hBqWkMQDz7Ox-jKuGl6aigsiBr8IVDruxbFPaL1S6k5nsYf8fmUaNoTK7W473bMA1Xtav_A91aD2XLb6JtTfigarAT0JruzdmN2qsTEKGsC98l_f_fVd5dSIEJIvzRvE6qCqLw_c0SUo1k4aPOSxAt8WmpQZTJj0ac7qJYFo0rNJVlY3gr8tEdaMLUUH3D95NttabE5RaQ2bBOdGgEY8N66VsFJ0Tueck7GDrlA7sy8RZRH8JyKFtzEnLcPG8fkW5BkSYDIqKjnKr8aM3f7mUU_m5Wqiot0ifIdY6NprSILy2VZjw2Om0OfsHIgKJSwDn3fvOSLzMus_qQfwju6dW88JRKKLiTW3EOImA_VNR7BoJv7BHg0y_aSRIrOT_wCBUKG4YwZor0e_6HxYAFpqsjnC7YFezAr5ZHF6H0tsZgXxEFUkhum5vz2BFysQkf_Hbb7w2legOdCc_Vd3hA-PHAktCtOVpMlHtU8RSZTWdI7zNhQ_OlJxtcSerIbQKrKAJfULAhmL1twKFV8RKrXJT73USgxdQvcgKdDbsC_G4RdgpL1WBW3Dt__koxeSlfrG4kRw9zEAgFXf9BhfXA7GehgdQSQZHIshDOayPHcGA4ppvxaf1expyL15a11Zgc_zjbldPH4EcWyCw96vSK11Fmm7QZG4ew32SKkkkX2hQXUthmaFp0Vm4sqq3ySVeNikFVu6kd1XoLCvhtrdgeLID9M9mQkInbCBmZroixXuop2-3KbOxdfU-glSyJ-PoJVwdME0lndg\n",
    "\n"
   ]
  },
  {
   "attachments": {},
   "cell_type": "markdown",
   "metadata": {},
   "source": [
    "### Designing finned-tube evaporators (HEX)\n",
    "\n",
    "* https://lando-chillers.com/design-finned-tube-evaporators/"
   ]
  },
  {
   "attachments": {},
   "cell_type": "markdown",
   "metadata": {},
   "source": [
    "### Effectiveness of an evaporator\n",
    "**Information:**\n",
    "* cold fluid changes phase and remains at a nearly uniform temperature so C (=\\dot{m}\\cdot C) tends towards infinity\n",
    "**Sources:**\n",
    "* https://www.scielo.br/j/bjce/a/wFJkrTx3PH8qmYGQVDBC6bc/?lang=en&format=pdf"
   ]
  },
  {
   "cell_type": "markdown",
   "metadata": {},
   "source": []
  }
 ],
 "metadata": {
  "kernelspec": {
   "display_name": "Python 3.8.13 ('FAST')",
   "language": "python",
   "name": "python3"
  },
  "language_info": {
   "codemirror_mode": {
    "name": "ipython",
    "version": 3
   },
   "file_extension": ".py",
   "mimetype": "text/x-python",
   "name": "python",
   "nbconvert_exporter": "python",
   "pygments_lexer": "ipython3",
   "version": "3.8.13"
  },
  "orig_nbformat": 4,
  "vscode": {
   "interpreter": {
    "hash": "d3d12d65d4093dddd3ed5dd60ebef1c840362d5e81355a53df3603368ead3fcd"
   }
  }
 },
 "nbformat": 4,
 "nbformat_minor": 2
}
